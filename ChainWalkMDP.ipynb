{
 "cells": [
  {
   "cell_type": "code",
   "execution_count": 1,
   "metadata": {
    "collapsed": false
   },
   "outputs": [
    {
     "name": "stdout",
     "output_type": "stream",
     "text": [
      "[[ 0.9  0.1  0.   0. ]\n",
      " [ 0.1  0.9  0.   0. ]\n",
      " [ 0.9  0.1  0.   0. ]\n",
      " [ 0.   0.1  0.9  0. ]\n",
      " [ 0.   0.9  0.1  0. ]\n",
      " [ 0.   0.   0.1  0.9]\n",
      " [ 0.   0.   0.9  0.1]\n",
      " [ 0.   0.   0.1  0.9]]\n"
     ]
    }
   ],
   "source": [
    "#####---チェーンウォークMDP問題---###\n",
    "\n",
    "import numpy as np\n",
    "\n",
    "#状態遷移行列\n",
    "Pas=np.array([[0.9, 0.1,0,0],[0.1,0.9,0,0],[0.9,0.1,0,0],[0,0.1,0.9,0],\n",
    "            [0,0.9,0.1,0],[0,0,0.1,0.9],[0,0,0.9,0.1],[0,0,0.1,0.9]])\n",
    "print(Pas)"
   ]
  },
  {
   "cell_type": "code",
   "execution_count": 2,
   "metadata": {
    "collapsed": false
   },
   "outputs": [
    {
     "name": "stdout",
     "output_type": "stream",
     "text": [
      "[[ 0.1  0.9  0.   0.   0.   0.   0.   0. ]\n",
      " [ 0.   0.   0.1  0.9  0.   0.   0.   0. ]\n",
      " [ 0.   0.   0.   0.   0.1  0.9  0.   0. ]\n",
      " [ 0.   0.   0.   0.   0.   0.   0.1  0.9]]\n"
     ]
    }
   ],
   "source": [
    "#政策の行列表現\n",
    "\n",
    "pL=0.1\n",
    "pi=np.zeros(32).reshape(4,8)\n",
    "for i in range(4):\n",
    "    pi[i,2*i]=pL\n",
    "    pi[i,2*i+1]=1-pL\n",
    "\n",
    "print(pi)\n",
    "    "
   ]
  },
  {
   "cell_type": "code",
   "execution_count": 3,
   "metadata": {
    "collapsed": false
   },
   "outputs": [
    {
     "name": "stdout",
     "output_type": "stream",
     "text": [
      "[[ 0.18  0.82  0.    0.  ]\n",
      " [ 0.09  0.1   0.81  0.  ]\n",
      " [ 0.    0.09  0.1   0.81]\n",
      " [ 0.    0.    0.18  0.82]]\n",
      "\n",
      "[[ 0.09  0.81  0.01  0.09  0.    0.    0.    0.  ]\n",
      " [ 0.01  0.09  0.09  0.81  0.    0.    0.    0.  ]\n",
      " [ 0.09  0.81  0.01  0.09  0.    0.    0.    0.  ]\n",
      " [ 0.    0.    0.01  0.09  0.09  0.81  0.    0.  ]\n",
      " [ 0.    0.    0.09  0.81  0.01  0.09  0.    0.  ]\n",
      " [ 0.    0.    0.    0.    0.01  0.09  0.09  0.81]\n",
      " [ 0.    0.    0.    0.    0.09  0.81  0.01  0.09]\n",
      " [ 0.    0.    0.    0.    0.01  0.09  0.09  0.81]]\n"
     ]
    }
   ],
   "source": [
    "#状態推移確率行列\n",
    "Mss=np.dot(pi,Pas)\n",
    "print(Mss)\n",
    "print()\n",
    "#(状態・行動)対の推移確率行列\n",
    "Maa = np.dot(Pas,pi)\n",
    "print(Maa)"
   ]
  },
  {
   "cell_type": "code",
   "execution_count": 4,
   "metadata": {
    "collapsed": false
   },
   "outputs": [],
   "source": [
    "#報酬ベクトル (状態がS4の時のみ報酬)\n",
    "#推移確率行列にRを書けた数値が報酬の期待値\n",
    "Ra=np.array([0,0,0,0,0,0,1,1])\n",
    "Rs=np.array([0,0,0,1])\n",
    "\n",
    "#割引率\n",
    "gamma=0.9"
   ]
  },
  {
   "cell_type": "code",
   "execution_count": 5,
   "metadata": {
    "collapsed": false
   },
   "outputs": [
    {
     "name": "stdout",
     "output_type": "stream",
     "text": [
      "[ 6.08650719  6.91123716  7.95091733  8.04598705]\n",
      "\n",
      "[[ 5.55208217  6.14588775]\n",
      " [ 5.55208217  7.06225438]\n",
      " [ 6.31368466  8.13283207]\n",
      " [ 7.26438187  8.13283207]]\n"
     ]
    }
   ],
   "source": [
    "###解析的に解く方法###\n",
    "\n",
    "#tステップ後の利得はγ^(t-1) * R * Psa^t = R/γ*(γPsa)^t\n",
    "#無限等比級数の和の形。行列ではΣ(γPsa)^t=((I-γPsa)^(-1)-I)と計算できる.\n",
    "from numpy.linalg import inv\n",
    "I8=np.identity(8)\n",
    "I4=np.identity(4)\n",
    "\n",
    "A=I4-gamma*Mss\n",
    "Vlt=np.dot((inv(A)-I4),Rs)/gamma\n",
    "print(Vlt)\n",
    "\n",
    "B=I8-gamma*Maa\n",
    "Qlt=np.dot((inv(B)-I8),Ra)/gamma\n",
    "print()\n",
    "print(Qlt.reshape(4,2))"
   ]
  },
  {
   "cell_type": "code",
   "execution_count": 6,
   "metadata": {
    "collapsed": false
   },
   "outputs": [
    {
     "name": "stdout",
     "output_type": "stream",
     "text": [
      "196\n",
      "[[ 6.08650718]\n",
      " [ 6.91123715]\n",
      " [ 7.95091732]\n",
      " [ 8.04598704]]\n"
     ]
    }
   ],
   "source": [
    "###方策評価###\n",
    "\n",
    "V=np.zeros(4).reshape(4,1) #価値関数をゼロで初期化\n",
    "theta=0.000000001\n",
    "delta=theta\n",
    "i=0\n",
    "\n",
    "while(delta>=theta and i<100000):\n",
    "    Vnext=Rs.reshape(4,1)+gamma*V #4次元の列ベクトル\n",
    "    Vupdate=np.dot(Mss,Vnext) #価値関数の更新：状態遷移行列を前からかける\n",
    "    delta=max(np.absolute(Vupdate-V))\n",
    "    V=Vupdate\n",
    "    i=i+1\n",
    "\n",
    "print(i)\n",
    "print(V)"
   ]
  },
  {
   "cell_type": "code",
   "execution_count": 7,
   "metadata": {
    "collapsed": false
   },
   "outputs": [
    {
     "name": "stdout",
     "output_type": "stream",
     "text": [
      "[1 1 1 1]\n",
      "[[ 0.  1.  0.  0.  0.  0.  0.  0.]\n",
      " [ 0.  0.  0.  1.  0.  0.  0.  0.]\n",
      " [ 0.  0.  0.  0.  0.  1.  0.  0.]\n",
      " [ 0.  0.  0.  0.  0.  0.  0.  1.]]\n"
     ]
    }
   ],
   "source": [
    "###方策改善###\n",
    "Q=np.dot(Pas, Rs.reshape(4,1)+gamma*V).reshape(4,2)\n",
    "am=Q.argmax(1)\n",
    "print(am)\n",
    "\n",
    "#方策PiをGreedyに更新\n",
    "pi=np.zeros(32).reshape(4,8)\n",
    "for i in range(4):\n",
    "    if am[i]==0: #Qが最大になるのがLの時,決定的にLを選択\n",
    "        pi[i,2*i]=1\n",
    "        pi[i,2*i+1]=0\n",
    "    else: #Qが最大になるのがRの時,決定的にRを選択\n",
    "        pi[i,2*i]=0\n",
    "        pi[i,2*i+1]=1\n",
    "\n",
    "print(pi)\n"
   ]
  },
  {
   "cell_type": "code",
   "execution_count": 10,
   "metadata": {
    "collapsed": false
   },
   "outputs": [],
   "source": []
  },
  {
   "cell_type": "code",
   "execution_count": null,
   "metadata": {
    "collapsed": true
   },
   "outputs": [],
   "source": []
  }
 ],
 "metadata": {
  "kernelspec": {
   "display_name": "Python 3",
   "language": "python",
   "name": "python3"
  },
  "language_info": {
   "codemirror_mode": {
    "name": "ipython",
    "version": 3
   },
   "file_extension": ".py",
   "mimetype": "text/x-python",
   "name": "python",
   "nbconvert_exporter": "python",
   "pygments_lexer": "ipython3",
   "version": "3.5.3"
  }
 },
 "nbformat": 4,
 "nbformat_minor": 2
}
