{
 "cells": [
  {
   "cell_type": "code",
   "execution_count": 11,
   "metadata": {
    "collapsed": false
   },
   "outputs": [],
   "source": [
    "import numpy as np\n",
    "\n",
    "#戻り値:2～11\n",
    "def pickCard():\n",
    "    #1～13の整数\n",
    "    c=np.random.randint(1,14)\n",
    "    if c>10:\n",
    "        c=10\n",
    "    elif c==1:\n",
    "        c=11\n",
    "    return c\n",
    "\n"
   ]
  },
  {
   "cell_type": "code",
   "execution_count": 12,
   "metadata": {
    "collapsed": false
   },
   "outputs": [
    {
     "name": "stdout",
     "output_type": "stream",
     "text": [
      "19\n"
     ]
    }
   ],
   "source": [
    "dealerCard1=pickCard()\n",
    "\n",
    "sumCard=0\n",
    "usableA=False\n",
    "while sumCard<12: \n",
    "    playerCard=pickCard()\n",
    "    if playerCard==11:\n",
    "        usableA=True\n",
    "    sumCard+=playerCard\n",
    "\n",
    "print(sumCard)"
   ]
  },
  {
   "cell_type": "code",
   "execution_count": 13,
   "metadata": {
    "collapsed": true
   },
   "outputs": [],
   "source": [
    "#方策: 19以下でHit(20以上でStay)\n",
    "def hitOrNot(sumCard, dealerCard1, usableA):\n",
    "    maxHit=19\n",
    "    \n",
    "    if sumCard<=maxHit:\n",
    "        return True\n",
    "    else:\n",
    "        return False\n"
   ]
  },
  {
   "cell_type": "code",
   "execution_count": 14,
   "metadata": {
    "collapsed": false
   },
   "outputs": [
    {
     "name": "stdout",
     "output_type": "stream",
     "text": [
      "24\n"
     ]
    }
   ],
   "source": [
    "while True:\n",
    "    hitFlg=hitOrNot(sumCard,dealerCard1,usableA)\n",
    "    if hitFlg==False:\n",
    "        break\n",
    "        \n",
    "    playerCard=pickCard()\n",
    "    if playerCard==11:\n",
    "        usableA=True\n",
    "    sumCard+=playerCard\n",
    "    if sumCard>21:\n",
    "        if usableA==True:\n",
    "            sumCard-=10\n",
    "            usableA=False\n",
    "        else:\n",
    "            break\n",
    "\n",
    "print(sumCard)\n",
    "\n"
   ]
  },
  {
   "cell_type": "code",
   "execution_count": 15,
   "metadata": {
    "collapsed": false
   },
   "outputs": [
    {
     "name": "stdout",
     "output_type": "stream",
     "text": [
      "20\n",
      "-1\n"
     ]
    }
   ],
   "source": [
    "#ディーラー側の行動\n",
    "sumCardD=dealerCard1\n",
    "\n",
    "usableAD=False\n",
    "if dealerCard1==1:\n",
    "    usableAD=True\n",
    "\n",
    "while(sumCardD<17):\n",
    "    dealerCard=pickCard()\n",
    "    if dealerCard==11:\n",
    "        usableAD=True\n",
    "    sumCardD+=dealerCard\n",
    "    \n",
    "    if sumCardD>21:\n",
    "        if usableAD==True:\n",
    "            sumCardD-=10\n",
    "            usableAD=False\n",
    "        else:\n",
    "            bust=True\n",
    "            break\n",
    "\n",
    "print(sumCardD)\n",
    "\n",
    "if bust==True:\n",
    "    reward=-1\n",
    "elif bustD==True:\n",
    "    reward=1\n",
    "else:\n",
    "    if sumCard>sumCardD:\n",
    "        reward=1\n",
    "    elif sumCard<sumCardD:\n",
    "        reward=-1\n",
    "    else:\n",
    "        reward=0\n",
    "\n",
    "print(reward)"
   ]
  },
  {
   "cell_type": "code",
   "execution_count": null,
   "metadata": {
    "collapsed": true
   },
   "outputs": [],
   "source": []
  },
  {
   "cell_type": "code",
   "execution_count": null,
   "metadata": {
    "collapsed": true
   },
   "outputs": [],
   "source": []
  }
 ],
 "metadata": {
  "kernelspec": {
   "display_name": "Python 3",
   "language": "python",
   "name": "python3"
  },
  "language_info": {
   "codemirror_mode": {
    "name": "ipython",
    "version": 3
   },
   "file_extension": ".py",
   "mimetype": "text/x-python",
   "name": "python",
   "nbconvert_exporter": "python",
   "pygments_lexer": "ipython3",
   "version": "3.5.3"
  }
 },
 "nbformat": 4,
 "nbformat_minor": 2
}
